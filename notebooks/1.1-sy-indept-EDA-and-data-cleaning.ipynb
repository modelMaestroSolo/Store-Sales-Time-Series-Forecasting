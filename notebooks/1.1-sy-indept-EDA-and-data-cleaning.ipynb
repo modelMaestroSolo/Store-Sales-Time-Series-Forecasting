{
 "cells": [
  {
   "cell_type": "markdown",
   "metadata": {},
   "source": [
    "# IN-DEPTH EDA AND DATA CLEANING"
   ]
  },
  {
   "cell_type": "markdown",
   "metadata": {},
   "source": [
    "Questions:\n",
    "1. *Is the train dataset complete (has all the required dates)?\n",
    "2. Which dates have the lowest and highest sales for each year?\n",
    "3. Did the earthquake impact sales?\n",
    "4. Are certain groups of stores selling more products? (Cluster, city, state, type)\n",
    "5. Are sales affected by promotions, oil prices and holidays?\n",
    "6. *What analysis can we get from the date and its extractable features?\n",
    "7. *What is the difference between RMSLE, RMSE, MSE (or why is the MAE greater than all of them?)\n",
    "\n",
    "NB: starred questions is not answered with visualizations. Answers to them improves quality of data and analysis. \n",
    "\n",
    "outcomes:\n",
    "- Insights on trends, patterns and relationships. useful for proposing recommendations, informed decision making during data cleaning, feature engineering etc.  \n",
    "- Visualizations for powerbi deployment, article and reports. \n",
    "- Data cleaning steps obtained to create python script to automate cleaning. "
   ]
  },
  {
   "cell_type": "code",
   "execution_count": null,
   "metadata": {},
   "outputs": [],
   "source": []
  }
 ],
 "metadata": {
  "language_info": {
   "name": "python"
  }
 },
 "nbformat": 4,
 "nbformat_minor": 2
}
