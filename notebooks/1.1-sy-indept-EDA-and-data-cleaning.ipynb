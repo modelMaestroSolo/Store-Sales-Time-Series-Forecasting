{
 "cells": [
  {
   "cell_type": "markdown",
   "metadata": {},
   "source": [
    "# IN-DEPTH EDA AND DATA CLEANING"
   ]
  },
  {
   "cell_type": "markdown",
   "metadata": {},
   "source": [
    "Questions:\n",
    "1. *Is the train dataset complete (has all the required dates)?\n",
    "2. Which dates have the lowest and highest sales for each year?\n",
    "3. Did the earthquake impact sales?\n",
    "4. Are certain groups of stores selling more products? (Cluster, city, state, type)\n",
    "5. Are sales affected by promotions, oil prices and holidays?\n",
    "6. *What analysis can we get from the date and its extractable features?\n",
    "7. *What is the difference between RMSLE, RMSE, MSE (or why is the MAE greater than all of them?)\n",
    "\n",
    "NB: starred questions is not answered with visualizations. Answers to them improves quality of data and analysis. \n",
    "\n",
    "outcomes:\n",
    "- Insights on trends, patterns and relationships. useful for proposing recommendations, informed decision making during data cleaning, feature engineering etc.  \n",
    "- Visualizations for powerbi deployment, article and reports. \n",
    "- Data cleaning steps obtained to create python script to automate cleaning. "
   ]
  },
  {
   "cell_type": "code",
   "execution_count": 1,
   "metadata": {},
   "outputs": [],
   "source": [
    "## Importations\n",
    "\n",
    "import pandas as pd\n",
    "import matplotlib as mpl \n",
    "import matplotlib.pyplot as plt\n",
    "import seaborn as sns "
   ]
  },
  {
   "cell_type": "code",
   "execution_count": 12,
   "metadata": {},
   "outputs": [],
   "source": [
    "## Load datasets\n",
    "train = pd.read_csv(\"../data/raw/train.csv\", \n",
    "                   dtype={\n",
    "                       \"store_nbr\":\"category\", \n",
    "                       \"family\":\"category\",\n",
    "                       \"sales\":\"float64\",\n",
    "                        \"id\":\"int32\",\n",
    "                        \"onpromotion\":\"int32\"\n",
    "                       },\n",
    "                   index_col=[\"date\"], \n",
    "                   parse_dates=True)\n",
    "\n",
    "test = pd.read_csv(\"../data/raw/test.csv\", \n",
    "                   dtype={\n",
    "                       \"store_nbr\":\"category\", \n",
    "                       \"family\":\"category\",\n",
    "                       \"sales\":\"float64\",\n",
    "                        \"id\":\"int32\",\n",
    "                        \"onpromotion\":\"int32\"\n",
    "                       },\n",
    "                   index_col=[\"date\"], \n",
    "                   parse_dates=True)\n",
    "\n",
    "holiday_events = pd.read_csv(\"../data/raw/holiday_events.csv\", \n",
    "                    dtype={\n",
    "                        \"type\":\"category\",\n",
    "                        \"locale\":\"category\",\n",
    "                        \"locale_name\":\"category\",\n",
    "                        \"description\":\"category\",\n",
    "                        \"transferred\":bool\n",
    "                    },\n",
    "                    index_col=[\"date\"], \n",
    "                    parse_dates=True, \n",
    "                    date_format=\"%Y-%m-%d\")\n",
    "holiday_events = holiday_events.drop(columns=holiday_events.columns[0])\n",
    "\n",
    "oil = pd.read_csv(\"../data/raw/oil.csv\", \n",
    "                    index_col=[\"date\"], parse_dates=True, \n",
    "                    date_format=\"%Y-%m-%d\" )\n",
    "oil = oil.drop(columns=oil.columns[0])\n",
    "\n",
    "stores = pd.read_csv(\"../data/raw/stores.csv\", \n",
    "                     dtype={\"store_nbr\":\"category\", \n",
    "                            \"city\":\"category\",\n",
    "                            \"state\":\"category\",\n",
    "                            \"type\":\"category\",\n",
    "                            \"cluster\":\"category\"\n",
    "                            },\n",
    "                     index_col=0)\n",
    "\n",
    "transactions = pd.read_csv(\"../data/raw/transactions.csv\", \n",
    "                           dtype={\"store_nbr\":\"category\"},\n",
    "                           index_col=[\"date\"],\n",
    "                           parse_dates=True)"
   ]
  },
  {
   "cell_type": "code",
   "execution_count": null,
   "metadata": {},
   "outputs": [],
   "source": [
    "## lowest and highest sales dates for each year\n",
    "\n"
   ]
  }
 ],
 "metadata": {
  "kernelspec": {
   "display_name": "store-sales",
   "language": "python",
   "name": "python3"
  },
  "language_info": {
   "codemirror_mode": {
    "name": "ipython",
    "version": 3
   },
   "file_extension": ".py",
   "mimetype": "text/x-python",
   "name": "python",
   "nbconvert_exporter": "python",
   "pygments_lexer": "ipython3",
   "version": "3.10.9"
  }
 },
 "nbformat": 4,
 "nbformat_minor": 2
}
